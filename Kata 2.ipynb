{
 "cells": [
  {
   "cell_type": "code",
   "execution_count": null,
   "metadata": {},
   "outputs": [],
   "source": []
  },
  {
   "cell_type": "markdown",
   "metadata": {},
   "source": [
    "Kata 2"
   ]
  },
  {
   "cell_type": "markdown",
   "metadata": {},
   "source": [
    "C:\\Users\\stroc>virtualenv env\n",
    "created virtual environment CPython3.10.2.final.0-64 in 1452ms\n",
    "  creator CPython3Windows(dest=C:\\Users\\stroc\\env, clear=False, no_vcs_ignore=False, global=False)\n",
    "  seeder FromAppData(download=False, pip=bundle, setuptools=bundle, wheel=bundle, via=copy, app_data_dir=C:\\Users\\stroc\\AppData\\Local\\pypa\\virtualenv)\n",
    "    added seed packages: pip==22.0.3, python_dateutil==2.8.2, setuptools==60.6.0, six==1.16.0, wheel==0.37.1\n",
    "  activators BashActivator,BatchActivator,FishActivator,NushellActivator,PowerShellActivator,PythonActivator\n",
    "\n",
    "C:\\Users\\stroc>env\\Scripts\\activate\n",
    "\n",
    "(env) C:\\Users\\stroc>pip freeze\n",
    "python-dateutil==2.8.2\n",
    "six==1.16.0\n",
    "\n",
    "(env) C:\\Users\\stroc>pipuninstall bcrypt\n",
    "\"pipuninstall\" no se reconoce como un comando interno o externo,\n",
    "programa o archivo por lotes ejecutable.\n",
    "\n",
    "(env) C:\\Users\\stroc>pip -q install bcrypt\n",
    "\n",
    "(env) C:\\Users\\stroc>python -c\n",
    "Argument expected for the -c option\n",
    "usage: C:\\Users\\stroc\\AppData\\Local\\Programs\\Python\\Python310\\python.exe [option] ... [-c cmd | -m mod | file | -] [arg] ...\n",
    "Try `python -h' for more information.\n",
    "\n",
    "(env) C:\\Users\\stroc> python -c \"import bcrypt; print(bcrypt.hashpw('password'.encode('utf-8'), bcrypt.gensalt()))\"\n",
    "b'$2b$12$zozGHcqwuBwb9i/1D9z0n.1IPRUch.Svyr.U9dw5qToXqt97Ww.2O'\n",
    "\n",
    "(env) C:\\Users\\stroc>deactivate\n",
    "C:\\Users\\stroc>"
   ]
  }
 ],
 "metadata": {
  "language_info": {
   "name": "python"
  },
  "orig_nbformat": 4
 },
 "nbformat": 4,
 "nbformat_minor": 2
}
