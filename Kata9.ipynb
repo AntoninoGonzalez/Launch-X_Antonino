{
 "cells": [
  {
   "cell_type": "markdown",
   "metadata": {},
   "source": [
    "Ejercicio 1 Trabajar con argumentos en funciones"
   ]
  },
  {
   "cell_type": "code",
   "execution_count": 2,
   "metadata": {},
   "outputs": [],
   "source": [
    "def combustible(tanque1, tanque2, tanque3):\n",
    "    total_tanque = (tanque1 + tanque2 + tanque3) / 3\n",
    "    return f\"\"\"Fuel Report:\n",
    "    Promedio Tanque: {total_tanque}%\n",
    "    Tanque 1: {tanque1}%\n",
    "    Tanque 2: {tanque2}%\n",
    "    Tanque 3: {tanque3}%\n",
    "    \"\"\""
   ]
  },
  {
   "cell_type": "code",
   "execution_count": 3,
   "metadata": {},
   "outputs": [
    {
     "name": "stdout",
     "output_type": "stream",
     "text": [
      "Fuel Report:\n",
      "    Total Average: 40.0%\n",
      "    Tanque 1: 30%\n",
      "    Tanque 2: 40%\n",
      "    Tanque 3: 50%\n",
      "    \n"
     ]
    }
   ],
   "source": [
    "print(combustible(30,40,50))"
   ]
  },
  {
   "cell_type": "code",
   "execution_count": 6,
   "metadata": {},
   "outputs": [
    {
     "data": {
      "text/plain": [
       "51.666666666666664"
      ]
     },
     "execution_count": 6,
     "metadata": {},
     "output_type": "execute_result"
    }
   ],
   "source": [
    "def promedio(values):\n",
    "    total = sum(values)\n",
    "    numero_tanques = len(values)\n",
    "    return total / numero_tanques\n",
    "promedio([50,60,45])"
   ]
  },
  {
   "cell_type": "code",
   "execution_count": 14,
   "metadata": {},
   "outputs": [],
   "source": [
    "def combustible(tanque1, tanque2, tanque3):\n",
    "    return f\"\"\"Fuel Report:\n",
    "    Promedio Tanque: {promedio([tanque1, tanque2, tanque3])}%\n",
    "    Tanque 1: {tanque1}%\n",
    "    Tanque 2: {tanque2}%\n",
    "    Tanque 3: {tanque3}%\n",
    "    \"\"\""
   ]
  },
  {
   "cell_type": "code",
   "execution_count": 15,
   "metadata": {},
   "outputs": [
    {
     "name": "stdout",
     "output_type": "stream",
     "text": [
      "Fuel Report:\n",
      "    Promedio Tanque: 52.666666666666664%\n",
      "    Tanque 1: 60%\n",
      "    Tanque 2: 50%\n",
      "    Tanque 3: 48%\n",
      "    \n"
     ]
    }
   ],
   "source": [
    "print(combustible(60,50,48))"
   ]
  }
 ],
 "metadata": {
  "interpreter": {
   "hash": "7e83ad29dfd1aac2d3d33d8fc22e279599b59f01c57533f6ae3f8193968dafef"
  },
  "kernelspec": {
   "display_name": "Python 3.10.2 ('Launch': venv)",
   "language": "python",
   "name": "python3"
  },
  "language_info": {
   "codemirror_mode": {
    "name": "ipython",
    "version": 3
   },
   "file_extension": ".py",
   "mimetype": "text/x-python",
   "name": "python",
   "nbconvert_exporter": "python",
   "pygments_lexer": "ipython3",
   "version": "3.10.2"
  },
  "orig_nbformat": 4
 },
 "nbformat": 4,
 "nbformat_minor": 2
}
