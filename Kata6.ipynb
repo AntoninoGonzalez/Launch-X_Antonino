{
 "cells": [
  {
   "cell_type": "markdown",
   "metadata": {},
   "source": [
    "Ejercicio 1 Crear y usar listas de Python"
   ]
  },
  {
   "cell_type": "code",
   "execution_count": 4,
   "metadata": {},
   "outputs": [
    {
     "name": "stdout",
     "output_type": "stream",
     "text": [
      "Hay 8 planetas en el sistema solar\n"
     ]
    }
   ],
   "source": [
    "planets = [\"Mercurio\", \"Venus\", \"Tierra\", \"Marte\", \"Jupiter\", \"Saturno\", \"Urano\", \"Neptuno\"]\n",
    "numero_planets =len(planets)\n",
    "print(\"Hay\", numero_planets, \"planetas en el sistema solar\")"
   ]
  },
  {
   "cell_type": "code",
   "execution_count": 5,
   "metadata": {},
   "outputs": [
    {
     "name": "stdout",
     "output_type": "stream",
     "text": [
      "['Mercurio', 'Venus', 'Tierra', 'Marte', 'Jupiter', 'Saturno', 'Urano', 'Neptuno', 'Pluton']\n",
      "En realidad son 9 en el sistema solar\n"
     ]
    }
   ],
   "source": [
    "planets.append(\"Pluton\")\n",
    "print(planets)\n",
    "numero_planets = len(planets)\n",
    "print(\"En realidad son\", numero_planets, \"en el sistema solar\")"
   ]
  },
  {
   "cell_type": "code",
   "execution_count": 6,
   "metadata": {},
   "outputs": [
    {
     "name": "stdout",
     "output_type": "stream",
     "text": [
      "El ultimo planeta es Pluton\n"
     ]
    }
   ],
   "source": [
    "print(\"El ultimo planeta es\", planets[-1])"
   ]
  },
  {
   "cell_type": "markdown",
   "metadata": {},
   "source": [
    "Ejercicio 2 Trabajando con datos de una lista"
   ]
  },
  {
   "cell_type": "code",
   "execution_count": 1,
   "metadata": {},
   "outputs": [],
   "source": [
    "planets = ['Mercury', 'Venus', 'Earth', 'Mars', 'Jupiter', 'Saturn', 'Neptune']"
   ]
  },
  {
   "cell_type": "code",
   "execution_count": 2,
   "metadata": {},
   "outputs": [],
   "source": [
    "introducir_planetas = input(\"Escriba el nombre del plante con letra mayuscula\")"
   ]
  },
  {
   "cell_type": "code",
   "execution_count": 6,
   "metadata": {},
   "outputs": [
    {
     "name": "stdout",
     "output_type": "stream",
     "text": [
      "Estos son los planetas mas cercanos a Venus\n",
      "['Mercury']\n"
     ]
    }
   ],
   "source": [
    "planeta_introducido = planets.index(introducir_planetas)\n",
    "print(\"Estos son los planetas mas cercanos a \" + introducir_planetas)\n",
    "print(planets[0:planeta_introducido])"
   ]
  },
  {
   "cell_type": "code",
   "execution_count": 10,
   "metadata": {},
   "outputs": [
    {
     "name": "stdout",
     "output_type": "stream",
     "text": [
      "Los planetas mas lejos del sol son ['Earth', 'Mars', 'Jupiter', 'Saturn', 'Neptune']\n"
     ]
    }
   ],
   "source": [
    "\n",
    "print(\"Los planetas mas lejos del sol son\", planets[planeta_introducido + 1:])\n"
   ]
  }
 ],
 "metadata": {
  "interpreter": {
   "hash": "7e83ad29dfd1aac2d3d33d8fc22e279599b59f01c57533f6ae3f8193968dafef"
  },
  "kernelspec": {
   "display_name": "Python 3.10.2 ('Launch': venv)",
   "language": "python",
   "name": "python3"
  },
  "language_info": {
   "codemirror_mode": {
    "name": "ipython",
    "version": 3
   },
   "file_extension": ".py",
   "mimetype": "text/x-python",
   "name": "python",
   "nbconvert_exporter": "python",
   "pygments_lexer": "ipython3",
   "version": "3.10.2"
  },
  "orig_nbformat": 4
 },
 "nbformat": 4,
 "nbformat_minor": 2
}
