{
 "cells": [
  {
   "cell_type": "markdown",
   "metadata": {},
   "source": [
    "Ejercicio 1"
   ]
  },
  {
   "cell_type": "code",
   "execution_count": 3,
   "metadata": {},
   "outputs": [
    {
     "name": "stdout",
     "output_type": "stream",
     "text": [
      "¡Se acerca un meteorito!\n"
     ]
    }
   ],
   "source": [
    "velocidad = 49\n",
    "if velocidad > 25:\n",
    "    print(\"¡Se acerca un meteorito!\")\n",
    "else:\n",
    "    print(\"No hay peligro\")"
   ]
  },
  {
   "cell_type": "markdown",
   "metadata": {},
   "source": [
    "Ejercicio 2"
   ]
  },
  {
   "cell_type": "code",
   "execution_count": 5,
   "metadata": {},
   "outputs": [
    {
     "name": "stdout",
     "output_type": "stream",
     "text": [
      "No se ve nada\n"
     ]
    }
   ],
   "source": [
    "asteroide = 19\n",
    "if asteroide > 20:\n",
    "    print(\"Una asteoride se ve en el cielo\")\n",
    "elif asteroide == 20:\n",
    "    print(\"Un asteroide se ve en el cierlo\")\n",
    "else:\n",
    "    print(\"No se ve nada\")"
   ]
  },
  {
   "cell_type": "markdown",
   "metadata": {},
   "source": [
    "Ejercicio 3"
   ]
  },
  {
   "cell_type": "code",
   "execution_count": 6,
   "metadata": {},
   "outputs": [
    {
     "name": "stdout",
     "output_type": "stream",
     "text": [
      "Se ve una luz en el cielo\n"
     ]
    }
   ],
   "source": [
    "velocidad = 25\n",
    "tamaño = 40\n",
    "if velocidad > 25 and tamaño > 25:\n",
    "    print(\"Un asteoride se acerca\")\n",
    "elif velocidad >= 20:\n",
    "    print(\"Se ve una luz en el cielo\")\n",
    "elif tamaño < 25:\n",
    "    print(\"No se ve nada\")\n",
    "else:\n",
    "    print(\"No se ve nada\")"
   ]
  }
 ],
 "metadata": {
  "interpreter": {
   "hash": "f52d6a309b6ddff9b5875dda86266b43e4ca97243eae89de5fef21494eb43e23"
  },
  "kernelspec": {
   "display_name": "Python 3.10.2 64-bit",
   "language": "python",
   "name": "python3"
  },
  "language_info": {
   "codemirror_mode": {
    "name": "ipython",
    "version": 3
   },
   "file_extension": ".py",
   "mimetype": "text/x-python",
   "name": "python",
   "nbconvert_exporter": "python",
   "pygments_lexer": "ipython3",
   "version": "3.10.2"
  },
  "orig_nbformat": 4
 },
 "nbformat": 4,
 "nbformat_minor": 2
}
